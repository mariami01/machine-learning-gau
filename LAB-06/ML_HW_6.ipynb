{
  "nbformat": 4,
  "nbformat_minor": 0,
  "metadata": {
    "colab": {
      "provenance": []
    },
    "kernelspec": {
      "name": "python3",
      "display_name": "Python 3"
    },
    "language_info": {
      "name": "python"
    }
  },
  "cells": [
    {
      "cell_type": "code",
      "source": [
        "#  ჩაწერეთ data.xlsx ექსელის ფაილის „sheetOne“ ფურცელზე 100 მონაცემი (100 სტრიქონი).\n",
        "#  პირველ სვეტში ჩაწერეთ ათი სიმბოლოსგან შემდგარი შემთხვევითი სტრიქონი;\n",
        "#  მეორე სვეტში ჩაწერეთ შემთხვევითი რიცხვები [0, 10] შუალედიდან;\n",
        "#  მესამე სვეტში ჩაწერეთ შემთხვევითი რიცხვები [1, 7] შუალედიდან;\n",
        "#  მეოთხე სვეტში ჩაწერეთ შემთხვევითი განსხვავებული რიცხვები [1, 100] შუალედიდან.\n",
        "\n",
        "import numpy as np\n",
        "import pandas as pd\n",
        "\n",
        "import string\n",
        "\n",
        "ALPHABET = np.array(list(string.ascii_lowercase + string.ascii_uppercase))\n",
        "\n",
        "dt = {\n",
        "    'rand_string': [''.join(np.random.choice(ALPHABET, size=10)) for _ in range(100)],\n",
        "    'rand_1_10': np.random.randint(0, 11, size=100),\n",
        "    'rand_1_7': np.random.randint(1, 8, size=100),\n",
        "    'rand_unique': np.random.choice(100, size=100, replace=False)\n",
        "}\n",
        "\n",
        "data = pd.DataFrame(data=dt)\n",
        "data.to_excel('data.xlsx', sheet_name=\"sheetOne\", index=False)\n"
      ],
      "metadata": {
        "id": "AUjYSwp4mpjG"
      },
      "execution_count": null,
      "outputs": []
    },
    {
      "cell_type": "code",
      "source": [
        "# დაამატეთ data.xlsx ექსელის ფაილის „sheetTwo“ ფურცელზე 50 მონაცემი (50 სტრიქონი).\n",
        "# პირველ სვეტში ჩაწერეთ განსხვავებული რიცხვები [1, 100] შუალედიდან.\n",
        "# მეორე სვეტში ჩაწერეთ შემთხვევით სახელები (სახელი შეარჩიეთ წინასწარ გასზაღვრული მასივიდან);\n",
        "# მესამე სვეტში ჩაწერეთ შემთხვევით გვარები (გვარი შეარჩიეთ წინასწარ გასზაღვრული მასივიდან);\n",
        "# მეოთხე სვეტში ჩაწერეთ შემთხვევითი რიცხვები [2000, 5000] შუალედიდან.\n",
        "\n",
        "import numpy as np\n",
        "import pandas as pd\n",
        "\n",
        "rand_names = ['nino', 'gela', 'vazha', 'gio', 'lela', 'tamari']\n",
        "rand_lastnames = ['lezhava', 'bakuria', 'chkhenkeli', 'chkhaidze', 'bakradze', 'nozadze']\n",
        "dt = {\n",
        "    'rand_nums': np.random.randint(1,101, size=50),\n",
        "    'rand_name': np.random.choice(rand_names, size=50),\n",
        "    'rand_lastname': np.random.choice(rand_lastnames, size=50),\n",
        "    'rand_nums': np.random.randint(2000,5001, size=50)\n",
        "}\n",
        "\n",
        "data = pd.DataFrame(data=dt)\n",
        "with pd.ExcelWriter(\"data.xlsx\", engine=\"openpyxl\", mode=\"a\") as writer:\n",
        "    data.to_excel(writer, sheet_name=\"sheetTwo\", index=False)"
      ],
      "metadata": {
        "id": "hTyPf9G7SkH1"
      },
      "execution_count": null,
      "outputs": []
    },
    {
      "cell_type": "code",
      "source": [
        "# წაიკითხეთ data.xlsx ექსელის ფაილის ყველა ფურცელი და გადაწერეთ მონაცემები datanew.xlsx ფაილში.\n",
        "\n",
        "sheetOne = pd.read_excel('data.xlsx', sheet_name=\"sheetOne\")\n",
        "sheetOne = pd.read_excel('data.xlsx', sheet_name=\"sheetTwo\")\n",
        "\n",
        "new_data = pd.concat([sheetOne, sheetOne], axis=1)\n",
        "new_data.to_excel(\"datanew.xlsx\", index=False)"
      ],
      "metadata": {
        "id": "Mb3xe4xvTGvO"
      },
      "execution_count": null,
      "outputs": []
    },
    {
      "cell_type": "code",
      "source": [
        "# წაიკითხეთ data.xlsx ექსელის ფაილის „sheetOne“ ფურცლიდან მონაცემები იპოვეთ პირველ სვეტში ჩაწერილი\n",
        "# სტრიქონებიდან რომელი შეიცავს სიმბოლო ‘a’-ის და გადაწერეთ datanew.xlsx ფაილის “sheet3” ფურცელში.\n",
        "import pandas as pd\n",
        "sheetOne = pd.read_excel('data.xlsx', sheet_name=\"sheetOne\")\n",
        "\n",
        "\n",
        "# substring to be searched\n",
        "sub ='a'\n",
        " \n",
        "# creating and passing series to new column\n",
        "data[\"Indexes\"]= data[\"rand_name\"].str.find(sub)\n",
        " \n",
        "# display\n",
        "# data\n",
        "\n",
        "with pd.ExcelWriter(\"datanew.xlsx\", engine=\"openpyxl\", mode=\"a\") as writer:\n",
        "    data.to_excel(writer, sheet_name=\"sheet3\", index=False)"
      ],
      "metadata": {
        "id": "6giqgYpvZ_Y1"
      },
      "execution_count": null,
      "outputs": []
    },
    {
      "cell_type": "code",
      "source": [
        "# data.xlsx ექსელის ფაილის „sheetTwo“ ფურცელიდან წაიკითხეთ მეოთხე სვეტში ჩაწერილი მონაცემები, იპოვეთ\n",
        "# ყველაზე დიდი რიცხვების მქონე ჩანაწერები და გადაწერეთ datanew.xlsx ფაილის “sheet4” ფურცელში.\n",
        "\n",
        "pd.read_excel('data.xlsx', sheet_name=\"sheetTwo\")\n",
        "\n",
        "maxValue = data.max()\n",
        "\n",
        "# with pd.ExcelWriter(\"datanew.xlsx\", engine=\"openpyxl\", mode=\"a\") as writer:\n",
        "#     maxValue.to_excel(writer, sheet_name=\"sheet4\", index=False)\n",
        "\n",
        "print(maxValue)"
      ],
      "metadata": {
        "colab": {
          "base_uri": "https://localhost:8080/",
          "height": 389
        },
        "id": "dKHJ1EaXV5lB",
        "outputId": "3d6bd145-f15e-43ea-88a7-9e031110737d"
      },
      "execution_count": 24,
      "outputs": [
        {
          "output_type": "error",
          "ename": "TypeError",
          "evalue": "ignored",
          "traceback": [
            "\u001b[0;31m---------------------------------------------------------------------------\u001b[0m",
            "\u001b[0;31mTypeError\u001b[0m                                 Traceback (most recent call last)",
            "\u001b[0;32m<ipython-input-24-92c84a0e336d>\u001b[0m in \u001b[0;36m<module>\u001b[0;34m\u001b[0m\n\u001b[1;32m      4\u001b[0m \u001b[0mpd\u001b[0m\u001b[0;34m.\u001b[0m\u001b[0mread_excel\u001b[0m\u001b[0;34m(\u001b[0m\u001b[0;34m'data.xlsx'\u001b[0m\u001b[0;34m,\u001b[0m \u001b[0msheet_name\u001b[0m\u001b[0;34m=\u001b[0m\u001b[0;34m\"sheetTwo\"\u001b[0m\u001b[0;34m)\u001b[0m\u001b[0;34m\u001b[0m\u001b[0;34m\u001b[0m\u001b[0m\n\u001b[1;32m      5\u001b[0m \u001b[0;34m\u001b[0m\u001b[0m\n\u001b[0;32m----> 6\u001b[0;31m \u001b[0mmaxValue\u001b[0m \u001b[0;34m=\u001b[0m \u001b[0mdata\u001b[0m\u001b[0;34m.\u001b[0m\u001b[0mmax\u001b[0m\u001b[0;34m(\u001b[0m\u001b[0;34m)\u001b[0m\u001b[0;34m\u001b[0m\u001b[0;34m\u001b[0m\u001b[0m\n\u001b[0m\u001b[1;32m      7\u001b[0m \u001b[0;34m\u001b[0m\u001b[0m\n\u001b[1;32m      8\u001b[0m \u001b[0;31m# with pd.ExcelWriter(\"datanew.xlsx\", engine=\"openpyxl\", mode=\"a\") as writer:\u001b[0m\u001b[0;34m\u001b[0m\u001b[0;34m\u001b[0m\u001b[0;34m\u001b[0m\u001b[0m\n",
            "\u001b[0;32m/usr/local/lib/python3.8/dist-packages/pandas/core/generic.py\u001b[0m in \u001b[0;36mmax\u001b[0;34m(self, axis, skipna, level, numeric_only, **kwargs)\u001b[0m\n\u001b[1;32m  10817\u001b[0m         )\n\u001b[1;32m  10818\u001b[0m         \u001b[0;32mdef\u001b[0m \u001b[0mmax\u001b[0m\u001b[0;34m(\u001b[0m\u001b[0mself\u001b[0m\u001b[0;34m,\u001b[0m \u001b[0maxis\u001b[0m\u001b[0;34m=\u001b[0m\u001b[0;32mNone\u001b[0m\u001b[0;34m,\u001b[0m \u001b[0mskipna\u001b[0m\u001b[0;34m=\u001b[0m\u001b[0;32mNone\u001b[0m\u001b[0;34m,\u001b[0m \u001b[0mlevel\u001b[0m\u001b[0;34m=\u001b[0m\u001b[0;32mNone\u001b[0m\u001b[0;34m,\u001b[0m \u001b[0mnumeric_only\u001b[0m\u001b[0;34m=\u001b[0m\u001b[0;32mNone\u001b[0m\u001b[0;34m,\u001b[0m \u001b[0;34m**\u001b[0m\u001b[0mkwargs\u001b[0m\u001b[0;34m)\u001b[0m\u001b[0;34m:\u001b[0m\u001b[0;34m\u001b[0m\u001b[0;34m\u001b[0m\u001b[0m\n\u001b[0;32m> 10819\u001b[0;31m             \u001b[0;32mreturn\u001b[0m \u001b[0mNDFrame\u001b[0m\u001b[0;34m.\u001b[0m\u001b[0mmax\u001b[0m\u001b[0;34m(\u001b[0m\u001b[0mself\u001b[0m\u001b[0;34m,\u001b[0m \u001b[0maxis\u001b[0m\u001b[0;34m,\u001b[0m \u001b[0mskipna\u001b[0m\u001b[0;34m,\u001b[0m \u001b[0mlevel\u001b[0m\u001b[0;34m,\u001b[0m \u001b[0mnumeric_only\u001b[0m\u001b[0;34m,\u001b[0m \u001b[0;34m**\u001b[0m\u001b[0mkwargs\u001b[0m\u001b[0;34m)\u001b[0m\u001b[0;34m\u001b[0m\u001b[0;34m\u001b[0m\u001b[0m\n\u001b[0m\u001b[1;32m  10820\u001b[0m \u001b[0;34m\u001b[0m\u001b[0m\n\u001b[1;32m  10821\u001b[0m         \u001b[0msetattr\u001b[0m\u001b[0;34m(\u001b[0m\u001b[0mcls\u001b[0m\u001b[0;34m,\u001b[0m \u001b[0;34m\"max\"\u001b[0m\u001b[0;34m,\u001b[0m \u001b[0mmax\u001b[0m\u001b[0;34m)\u001b[0m\u001b[0;34m\u001b[0m\u001b[0;34m\u001b[0m\u001b[0m\n",
            "\u001b[0;32m/usr/local/lib/python3.8/dist-packages/pandas/core/generic.py\u001b[0m in \u001b[0;36mmax\u001b[0;34m(self, axis, skipna, level, numeric_only, **kwargs)\u001b[0m\n\u001b[1;32m  10362\u001b[0m \u001b[0;34m\u001b[0m\u001b[0m\n\u001b[1;32m  10363\u001b[0m     \u001b[0;32mdef\u001b[0m \u001b[0mmax\u001b[0m\u001b[0;34m(\u001b[0m\u001b[0mself\u001b[0m\u001b[0;34m,\u001b[0m \u001b[0maxis\u001b[0m\u001b[0;34m=\u001b[0m\u001b[0;32mNone\u001b[0m\u001b[0;34m,\u001b[0m \u001b[0mskipna\u001b[0m\u001b[0;34m=\u001b[0m\u001b[0;32mNone\u001b[0m\u001b[0;34m,\u001b[0m \u001b[0mlevel\u001b[0m\u001b[0;34m=\u001b[0m\u001b[0;32mNone\u001b[0m\u001b[0;34m,\u001b[0m \u001b[0mnumeric_only\u001b[0m\u001b[0;34m=\u001b[0m\u001b[0;32mNone\u001b[0m\u001b[0;34m,\u001b[0m \u001b[0;34m**\u001b[0m\u001b[0mkwargs\u001b[0m\u001b[0;34m)\u001b[0m\u001b[0;34m:\u001b[0m\u001b[0;34m\u001b[0m\u001b[0;34m\u001b[0m\u001b[0m\n\u001b[0;32m> 10364\u001b[0;31m         return self._stat_function(\n\u001b[0m\u001b[1;32m  10365\u001b[0m             \u001b[0;34m\"max\"\u001b[0m\u001b[0;34m,\u001b[0m \u001b[0mnanops\u001b[0m\u001b[0;34m.\u001b[0m\u001b[0mnanmax\u001b[0m\u001b[0;34m,\u001b[0m \u001b[0maxis\u001b[0m\u001b[0;34m,\u001b[0m \u001b[0mskipna\u001b[0m\u001b[0;34m,\u001b[0m \u001b[0mlevel\u001b[0m\u001b[0;34m,\u001b[0m \u001b[0mnumeric_only\u001b[0m\u001b[0;34m,\u001b[0m \u001b[0;34m**\u001b[0m\u001b[0mkwargs\u001b[0m\u001b[0;34m\u001b[0m\u001b[0;34m\u001b[0m\u001b[0m\n\u001b[1;32m  10366\u001b[0m         )\n",
            "\u001b[0;32m/usr/local/lib/python3.8/dist-packages/pandas/core/generic.py\u001b[0m in \u001b[0;36m_stat_function\u001b[0;34m(self, name, func, axis, skipna, level, numeric_only, **kwargs)\u001b[0m\n\u001b[1;32m  10352\u001b[0m                 \u001b[0mname\u001b[0m\u001b[0;34m,\u001b[0m \u001b[0maxis\u001b[0m\u001b[0;34m=\u001b[0m\u001b[0maxis\u001b[0m\u001b[0;34m,\u001b[0m \u001b[0mlevel\u001b[0m\u001b[0;34m=\u001b[0m\u001b[0mlevel\u001b[0m\u001b[0;34m,\u001b[0m \u001b[0mskipna\u001b[0m\u001b[0;34m=\u001b[0m\u001b[0mskipna\u001b[0m\u001b[0;34m,\u001b[0m \u001b[0mnumeric_only\u001b[0m\u001b[0;34m=\u001b[0m\u001b[0mnumeric_only\u001b[0m\u001b[0;34m\u001b[0m\u001b[0;34m\u001b[0m\u001b[0m\n\u001b[1;32m  10353\u001b[0m             )\n\u001b[0;32m> 10354\u001b[0;31m         return self._reduce(\n\u001b[0m\u001b[1;32m  10355\u001b[0m             \u001b[0mfunc\u001b[0m\u001b[0;34m,\u001b[0m \u001b[0mname\u001b[0m\u001b[0;34m=\u001b[0m\u001b[0mname\u001b[0m\u001b[0;34m,\u001b[0m \u001b[0maxis\u001b[0m\u001b[0;34m=\u001b[0m\u001b[0maxis\u001b[0m\u001b[0;34m,\u001b[0m \u001b[0mskipna\u001b[0m\u001b[0;34m=\u001b[0m\u001b[0mskipna\u001b[0m\u001b[0;34m,\u001b[0m \u001b[0mnumeric_only\u001b[0m\u001b[0;34m=\u001b[0m\u001b[0mnumeric_only\u001b[0m\u001b[0;34m\u001b[0m\u001b[0;34m\u001b[0m\u001b[0m\n\u001b[1;32m  10356\u001b[0m         )\n",
            "\u001b[0;32m/usr/local/lib/python3.8/dist-packages/pandas/core/series.py\u001b[0m in \u001b[0;36m_reduce\u001b[0;34m(self, op, name, axis, skipna, numeric_only, filter_type, **kwds)\u001b[0m\n\u001b[1;32m   4390\u001b[0m                 )\n\u001b[1;32m   4391\u001b[0m             \u001b[0;32mwith\u001b[0m \u001b[0mnp\u001b[0m\u001b[0;34m.\u001b[0m\u001b[0merrstate\u001b[0m\u001b[0;34m(\u001b[0m\u001b[0mall\u001b[0m\u001b[0;34m=\u001b[0m\u001b[0;34m\"ignore\"\u001b[0m\u001b[0;34m)\u001b[0m\u001b[0;34m:\u001b[0m\u001b[0;34m\u001b[0m\u001b[0;34m\u001b[0m\u001b[0m\n\u001b[0;32m-> 4392\u001b[0;31m                 \u001b[0;32mreturn\u001b[0m \u001b[0mop\u001b[0m\u001b[0;34m(\u001b[0m\u001b[0mdelegate\u001b[0m\u001b[0;34m,\u001b[0m \u001b[0mskipna\u001b[0m\u001b[0;34m=\u001b[0m\u001b[0mskipna\u001b[0m\u001b[0;34m,\u001b[0m \u001b[0;34m**\u001b[0m\u001b[0mkwds\u001b[0m\u001b[0;34m)\u001b[0m\u001b[0;34m\u001b[0m\u001b[0;34m\u001b[0m\u001b[0m\n\u001b[0m\u001b[1;32m   4393\u001b[0m \u001b[0;34m\u001b[0m\u001b[0m\n\u001b[1;32m   4394\u001b[0m     def _reindex_indexer(\n",
            "\u001b[0;32m/usr/local/lib/python3.8/dist-packages/pandas/core/nanops.py\u001b[0m in \u001b[0;36mf\u001b[0;34m(values, axis, skipna, **kwds)\u001b[0m\n\u001b[1;32m    154\u001b[0m                     \u001b[0mresult\u001b[0m \u001b[0;34m=\u001b[0m \u001b[0malt\u001b[0m\u001b[0;34m(\u001b[0m\u001b[0mvalues\u001b[0m\u001b[0;34m,\u001b[0m \u001b[0maxis\u001b[0m\u001b[0;34m=\u001b[0m\u001b[0maxis\u001b[0m\u001b[0;34m,\u001b[0m \u001b[0mskipna\u001b[0m\u001b[0;34m=\u001b[0m\u001b[0mskipna\u001b[0m\u001b[0;34m,\u001b[0m \u001b[0;34m**\u001b[0m\u001b[0mkwds\u001b[0m\u001b[0;34m)\u001b[0m\u001b[0;34m\u001b[0m\u001b[0;34m\u001b[0m\u001b[0m\n\u001b[1;32m    155\u001b[0m             \u001b[0;32melse\u001b[0m\u001b[0;34m:\u001b[0m\u001b[0;34m\u001b[0m\u001b[0;34m\u001b[0m\u001b[0m\n\u001b[0;32m--> 156\u001b[0;31m                 \u001b[0mresult\u001b[0m \u001b[0;34m=\u001b[0m \u001b[0malt\u001b[0m\u001b[0;34m(\u001b[0m\u001b[0mvalues\u001b[0m\u001b[0;34m,\u001b[0m \u001b[0maxis\u001b[0m\u001b[0;34m=\u001b[0m\u001b[0maxis\u001b[0m\u001b[0;34m,\u001b[0m \u001b[0mskipna\u001b[0m\u001b[0;34m=\u001b[0m\u001b[0mskipna\u001b[0m\u001b[0;34m,\u001b[0m \u001b[0;34m**\u001b[0m\u001b[0mkwds\u001b[0m\u001b[0;34m)\u001b[0m\u001b[0;34m\u001b[0m\u001b[0;34m\u001b[0m\u001b[0m\n\u001b[0m\u001b[1;32m    157\u001b[0m \u001b[0;34m\u001b[0m\u001b[0m\n\u001b[1;32m    158\u001b[0m             \u001b[0;32mreturn\u001b[0m \u001b[0mresult\u001b[0m\u001b[0;34m\u001b[0m\u001b[0;34m\u001b[0m\u001b[0m\n",
            "\u001b[0;32m/usr/local/lib/python3.8/dist-packages/pandas/core/nanops.py\u001b[0m in \u001b[0;36mnew_func\u001b[0;34m(values, axis, skipna, mask, **kwargs)\u001b[0m\n\u001b[1;32m    409\u001b[0m             \u001b[0mmask\u001b[0m \u001b[0;34m=\u001b[0m \u001b[0misna\u001b[0m\u001b[0;34m(\u001b[0m\u001b[0mvalues\u001b[0m\u001b[0;34m)\u001b[0m\u001b[0;34m\u001b[0m\u001b[0;34m\u001b[0m\u001b[0m\n\u001b[1;32m    410\u001b[0m \u001b[0;34m\u001b[0m\u001b[0m\n\u001b[0;32m--> 411\u001b[0;31m         \u001b[0mresult\u001b[0m \u001b[0;34m=\u001b[0m \u001b[0mfunc\u001b[0m\u001b[0;34m(\u001b[0m\u001b[0mvalues\u001b[0m\u001b[0;34m,\u001b[0m \u001b[0maxis\u001b[0m\u001b[0;34m=\u001b[0m\u001b[0maxis\u001b[0m\u001b[0;34m,\u001b[0m \u001b[0mskipna\u001b[0m\u001b[0;34m=\u001b[0m\u001b[0mskipna\u001b[0m\u001b[0;34m,\u001b[0m \u001b[0mmask\u001b[0m\u001b[0;34m=\u001b[0m\u001b[0mmask\u001b[0m\u001b[0;34m,\u001b[0m \u001b[0;34m**\u001b[0m\u001b[0mkwargs\u001b[0m\u001b[0;34m)\u001b[0m\u001b[0;34m\u001b[0m\u001b[0;34m\u001b[0m\u001b[0m\n\u001b[0m\u001b[1;32m    412\u001b[0m \u001b[0;34m\u001b[0m\u001b[0m\n\u001b[1;32m    413\u001b[0m         \u001b[0;32mif\u001b[0m \u001b[0mdatetimelike\u001b[0m\u001b[0;34m:\u001b[0m\u001b[0;34m\u001b[0m\u001b[0;34m\u001b[0m\u001b[0m\n",
            "\u001b[0;32m/usr/local/lib/python3.8/dist-packages/pandas/core/nanops.py\u001b[0m in \u001b[0;36mreduction\u001b[0;34m(values, axis, skipna, mask)\u001b[0m\n\u001b[1;32m   1016\u001b[0m                 \u001b[0mresult\u001b[0m \u001b[0;34m=\u001b[0m \u001b[0mnp\u001b[0m\u001b[0;34m.\u001b[0m\u001b[0mnan\u001b[0m\u001b[0;34m\u001b[0m\u001b[0;34m\u001b[0m\u001b[0m\n\u001b[1;32m   1017\u001b[0m         \u001b[0;32melse\u001b[0m\u001b[0;34m:\u001b[0m\u001b[0;34m\u001b[0m\u001b[0;34m\u001b[0m\u001b[0m\n\u001b[0;32m-> 1018\u001b[0;31m             \u001b[0mresult\u001b[0m \u001b[0;34m=\u001b[0m \u001b[0mgetattr\u001b[0m\u001b[0;34m(\u001b[0m\u001b[0mvalues\u001b[0m\u001b[0;34m,\u001b[0m \u001b[0mmeth\u001b[0m\u001b[0;34m)\u001b[0m\u001b[0;34m(\u001b[0m\u001b[0maxis\u001b[0m\u001b[0;34m)\u001b[0m\u001b[0;34m\u001b[0m\u001b[0;34m\u001b[0m\u001b[0m\n\u001b[0m\u001b[1;32m   1019\u001b[0m \u001b[0;34m\u001b[0m\u001b[0m\n\u001b[1;32m   1020\u001b[0m         \u001b[0mresult\u001b[0m \u001b[0;34m=\u001b[0m \u001b[0m_maybe_null_out\u001b[0m\u001b[0;34m(\u001b[0m\u001b[0mresult\u001b[0m\u001b[0;34m,\u001b[0m \u001b[0maxis\u001b[0m\u001b[0;34m,\u001b[0m \u001b[0mmask\u001b[0m\u001b[0;34m,\u001b[0m \u001b[0mvalues\u001b[0m\u001b[0;34m.\u001b[0m\u001b[0mshape\u001b[0m\u001b[0;34m)\u001b[0m\u001b[0;34m\u001b[0m\u001b[0;34m\u001b[0m\u001b[0m\n",
            "\u001b[0;32m/usr/local/lib/python3.8/dist-packages/numpy/core/_methods.py\u001b[0m in \u001b[0;36m_amax\u001b[0;34m(a, axis, out, keepdims, initial, where)\u001b[0m\n\u001b[1;32m     38\u001b[0m def _amax(a, axis=None, out=None, keepdims=False,\n\u001b[1;32m     39\u001b[0m           initial=_NoValue, where=True):\n\u001b[0;32m---> 40\u001b[0;31m     \u001b[0;32mreturn\u001b[0m \u001b[0mumr_maximum\u001b[0m\u001b[0;34m(\u001b[0m\u001b[0ma\u001b[0m\u001b[0;34m,\u001b[0m \u001b[0maxis\u001b[0m\u001b[0;34m,\u001b[0m \u001b[0;32mNone\u001b[0m\u001b[0;34m,\u001b[0m \u001b[0mout\u001b[0m\u001b[0;34m,\u001b[0m \u001b[0mkeepdims\u001b[0m\u001b[0;34m,\u001b[0m \u001b[0minitial\u001b[0m\u001b[0;34m,\u001b[0m \u001b[0mwhere\u001b[0m\u001b[0;34m)\u001b[0m\u001b[0;34m\u001b[0m\u001b[0;34m\u001b[0m\u001b[0m\n\u001b[0m\u001b[1;32m     41\u001b[0m \u001b[0;34m\u001b[0m\u001b[0m\n\u001b[1;32m     42\u001b[0m def _amin(a, axis=None, out=None, keepdims=False,\n",
            "\u001b[0;31mTypeError\u001b[0m: '>=' not supported between instances of 'numpy.ndarray' and 'str'"
          ]
        }
      ]
    },
    {
      "cell_type": "code",
      "source": [
        "# წაიკითხეთ file_example_XLS_1000.xls ფაილიდან მონაცემები, დაბეჭდეთ მონაცემები ID-ის მიხედვით\n",
        "# ზრდადობით, იპოვეთ Age-ის მიხედვით საშუალო არითმეტიკული, იპოვეთ საშუალო ასაკი, ასაკების მოდა,\n",
        "# მედიანა, ყველაზე მაღალი და ყველაზე დაბალი ასაკის მომხარებელი.\n",
        "\n",
        "df = pd.read_excel(\"file_example_XLSX_1000.xlsx\", index_col=0)\n",
        "df.sort_values(by=['Id'], ascending=True)\n",
        "df[\"Age\"].describe()\n",
        "\n",
        "print(f\"Age mean: {df['Age'].mean()}\")\n",
        "print(f\"Age mode: {', '.join(str(m) for m in df['Age'].mode())}\")\n",
        "print(f\"Age median: {df['Age'].median()}\")\n",
        "print(\"Oldest users: \")\n",
        "print(df[df['Age'] == df['Age'].max()])\n",
        "print(\"Youngest users: \")\n",
        "print(df[df['Age'] == df['Age'].min()])"
      ],
      "metadata": {
        "colab": {
          "base_uri": "https://localhost:8080/"
        },
        "id": "sDs9UdS-bxpP",
        "outputId": "d91803b9-ab84-44d8-f02e-0a5793f378f3"
      },
      "execution_count": 38,
      "outputs": [
        {
          "output_type": "stream",
          "name": "stdout",
          "text": [
            "Age mean: 33.26\n",
            "Age mode: 26, 28\n",
            "Age median: 32.0\n",
            "Oldest users: \n",
            "    First Name Last Name  Gender        Country  Age        Date    Id\n",
            "5      Nereida   Magwood  Female  United States   58  16/08/2016  2468\n",
            "55     Nereida   Magwood  Female  United States   58  16/08/2016  2468\n",
            "105    Nereida   Magwood  Female  United States   58  16/08/2016  2468\n",
            "155    Nereida   Magwood  Female  United States   58  16/08/2016  2468\n",
            "205    Nereida   Magwood  Female  United States   58  16/08/2016  2468\n",
            "255    Nereida   Magwood  Female  United States   58  16/08/2016  2468\n",
            "305    Nereida   Magwood  Female  United States   58  16/08/2016  2468\n",
            "355    Nereida   Magwood  Female  United States   58  16/08/2016  2468\n",
            "405    Nereida   Magwood  Female  United States   58  16/08/2016  2468\n",
            "455    Nereida   Magwood  Female  United States   58  16/08/2016  2468\n",
            "505    Nereida   Magwood  Female  United States   58  16/08/2016  2468\n",
            "555    Nereida   Magwood  Female  United States   58  16/08/2016  2468\n",
            "605    Nereida   Magwood  Female  United States   58  16/08/2016  2468\n",
            "655    Nereida   Magwood  Female  United States   58  16/08/2016  2468\n",
            "705    Nereida   Magwood  Female  United States   58  16/08/2016  2468\n",
            "755    Nereida   Magwood  Female  United States   58  16/08/2016  2468\n",
            "805    Nereida   Magwood  Female  United States   58  16/08/2016  2468\n",
            "855    Nereida   Magwood  Female  United States   58  16/08/2016  2468\n",
            "905    Nereida   Magwood  Female  United States   58  16/08/2016  2468\n",
            "955    Nereida   Magwood  Female  United States   58  16/08/2016  2468\n",
            "Youngest users: \n",
            "    First Name Last Name Gender Country  Age        Date    Id\n",
            "25      Lester   Prothro   Male  France   21  15/10/2017  6574\n",
            "75      Lester   Prothro   Male  France   21  15/10/2017  6574\n",
            "125     Lester   Prothro   Male  France   21  15/10/2017  6574\n",
            "175     Lester   Prothro   Male  France   21  15/10/2017  6574\n",
            "225     Lester   Prothro   Male  France   21  15/10/2017  6574\n",
            "275     Lester   Prothro   Male  France   21  15/10/2017  6574\n",
            "325     Lester   Prothro   Male  France   21  15/10/2017  6574\n",
            "375     Lester   Prothro   Male  France   21  15/10/2017  6574\n",
            "425     Lester   Prothro   Male  France   21  15/10/2017  6574\n",
            "475     Lester   Prothro   Male  France   21  15/10/2017  6574\n",
            "525     Lester   Prothro   Male  France   21  15/10/2017  6574\n",
            "575     Lester   Prothro   Male  France   21  15/10/2017  6574\n",
            "625     Lester   Prothro   Male  France   21  15/10/2017  6574\n",
            "675     Lester   Prothro   Male  France   21  15/10/2017  6574\n",
            "725     Lester   Prothro   Male  France   21  15/10/2017  6574\n",
            "775     Lester   Prothro   Male  France   21  15/10/2017  6574\n",
            "825     Lester   Prothro   Male  France   21  15/10/2017  6574\n",
            "875     Lester   Prothro   Male  France   21  15/10/2017  6574\n",
            "925     Lester   Prothro   Male  France   21  15/10/2017  6574\n",
            "975     Lester   Prothro   Male  France   21  15/10/2017  6574\n"
          ]
        }
      ]
    },
    {
      "cell_type": "code",
      "source": [
        "# წაიკითხეთ staff_1000.xls ფაილიდან მონაცემები გადაწერეთ 30-დან 40 წლამდე პერსონალის მონაცემები ახალ\n",
        "# staff_age.xls ფაილში.\n",
        "\n",
        "staff = pd.read_excel(\"staff_1000.xlsx\", index_col=0)\n",
        "staff_age = staff[(30 <= staff['Age']) | (staff['Age'] < 40)]\n",
        "staff_age.to_excel(\"staff_age.xlsx\")"
      ],
      "metadata": {
        "id": "1k0hBjv2fCqo"
      },
      "execution_count": 40,
      "outputs": []
    }
  ]
}